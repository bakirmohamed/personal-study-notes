{
 "cells": [
  {
   "cell_type": "code",
   "execution_count": null,
   "id": "d48e416f",
   "metadata": {},
   "outputs": [],
   "source": [
    "import numpy as np"
   ]
  },
  {
   "cell_type": "markdown",
   "id": "7aea57d8",
   "metadata": {},
   "source": [
    "## Weat\n",
    "- Word embeddings (Word2Vec, GloVe, etc..)"
   ]
  },
  {
   "cell_type": "code",
   "execution_count": 1,
   "id": "bb40ee0e",
   "metadata": {},
   "outputs": [],
   "source": [
    "# Define our sets\n",
    "\n",
    "X = ['doctor', 'engineer', 'scientist']\n",
    "Y = ['nurse', 'teacher', 'receptionist']\n",
    "A = ['man','male','boy']\n",
    "B= ['woman', 'female','girl']"
   ]
  },
  {
   "cell_type": "code",
   "execution_count": null,
   "id": "ed27332f",
   "metadata": {},
   "outputs": [],
   "source": [
    "### Word embeddings\n",
    "\n",
    "word_embeddings = {\n",
    "    'doctor' : np\n",
    "}"
   ]
  }
 ],
 "metadata": {
  "kernelspec": {
   "display_name": ".venv",
   "language": "python",
   "name": "python3"
  },
  "language_info": {
   "codemirror_mode": {
    "name": "ipython",
    "version": 3
   },
   "file_extension": ".py",
   "mimetype": "text/x-python",
   "name": "python",
   "nbconvert_exporter": "python",
   "pygments_lexer": "ipython3",
   "version": "3.13.3"
  }
 },
 "nbformat": 4,
 "nbformat_minor": 5
}
