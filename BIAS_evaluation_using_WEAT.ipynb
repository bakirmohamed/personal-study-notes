{
 "cells": [
  {
   "cell_type": "code",
   "execution_count": 2,
   "id": "d48e416f",
   "metadata": {},
   "outputs": [],
   "source": [
    "import numpy as np"
   ]
  },
  {
   "cell_type": "markdown",
   "id": "7aea57d8",
   "metadata": {},
   "source": [
    "## Weat\n",
    "- Word embeddings (Word2Vec, GloVe, etc..)"
   ]
  },
  {
   "cell_type": "code",
   "execution_count": 3,
   "id": "bb40ee0e",
   "metadata": {},
   "outputs": [],
   "source": [
    "# Define our sets\n",
    "\n",
    "X = ['doctor', 'engineer', 'scientist']\n",
    "Y = ['nurse', 'teacher', 'receptionist']\n",
    "A = ['man','male','boy']\n",
    "B= ['woman', 'female','girl']"
   ]
  },
  {
   "cell_type": "code",
   "execution_count": 4,
   "id": "ed27332f",
   "metadata": {},
   "outputs": [],
   "source": [
    "### Word embeddings\n",
    "\n",
    "word_embeddings = {\n",
    "    'doctor' : np.array([0.1,0.3,0.5]),\n",
    "    'engineer' : np.array([0.2,0.4,0.2]),\n",
    "    'scientist' : np.array([0.3,0.1,0.4]),\n",
    "    'nurse' : np.array([0.5,0.1,0.3]),\n",
    "    'teacher' : np.array([0.4,0.2,0.1]),\n",
    "    'receptionist' : np.array([0.3,0.4,0.3]),\n",
    "    'man' : np.array([0.5,0.5,0.5]),\n",
    "    'male' : np.array([0.5,0.4,0.5]),\n",
    "    'boy' : np.array([0.5,0.5,0.4]),\n",
    "    'woman' : np.array([0.5,0.2,0.3]),\n",
    "    'female' : np.array([0.5,0.3,0.3]),\n",
    "    'girl' : np.array([0.5,0.3,0.4])\n",
    "}"
   ]
  },
  {
   "cell_type": "code",
   "execution_count": 5,
   "id": "78c3d29d",
   "metadata": {},
   "outputs": [],
   "source": [
    "from sklearn.metrics.pairwise import cosine_similarity"
   ]
  },
  {
   "cell_type": "code",
   "execution_count": null,
   "id": "31c79396",
   "metadata": {},
   "outputs": [],
   "source": [
    "def s(w, X, Y):\n",
    "    sim_X = np.mean([cosine_similarity(word_embeddings[w].reshape(1,-1), word_embeddings[x].reshape(1, -1)) for x in X])\n",
    "    sim_X = np.mean([cosine_similarity(word_embeddings[w].reshape(1,-1), word_embeddings[y].reshape(1, -1)) for y in Y])"
   ]
  }
 ],
 "metadata": {
  "kernelspec": {
   "display_name": ".venv",
   "language": "python",
   "name": "python3"
  },
  "language_info": {
   "codemirror_mode": {
    "name": "ipython",
    "version": 3
   },
   "file_extension": ".py",
   "mimetype": "text/x-python",
   "name": "python",
   "nbconvert_exporter": "python",
   "pygments_lexer": "ipython3",
   "version": "3.13.3"
  }
 },
 "nbformat": 4,
 "nbformat_minor": 5
}
